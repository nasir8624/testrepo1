{
 "cells": [
  {
   "cell_type": "markdown",
   "id": "325096fa-67f1-495b-a8fa-9040d653e517",
   "metadata": {},
   "source": [
    "# My Jupyter Notebook on IBM Watson Studio"
   ]
  },
  {
   "cell_type": "markdown",
   "id": "45f18903-547d-4f3d-9ee5-0b4a71468452",
   "metadata": {},
   "source": [
    "**MOHD NASIRUDDIN**\n",
    "\n",
    "My passion is to become a Data Scientist."
   ]
  },
  {
   "cell_type": "markdown",
   "id": "5a86e7a7-50f0-4ffd-af25-d236fc3458af",
   "metadata": {},
   "source": [
    "*I am interested in data science because I love to trade in stock market and there is a lot of scope for a Data Scientist in Stock market.*"
   ]
  },
  {
   "cell_type": "markdown",
   "id": "a46bc6ea-6b71-4a0a-8b4c-586dbd7723bc",
   "metadata": {},
   "source": [
    "**I have given values to different variables then given print command to add.**"
   ]
  },
  {
   "cell_type": "code",
   "execution_count": 2,
   "id": "9c19a57c-b890-4db3-8ca9-271afdbc8720",
   "metadata": {},
   "outputs": [
    {
     "name": "stdout",
     "output_type": "stream",
     "text": [
      "3\n"
     ]
    }
   ],
   "source": [
    "one = 1\n",
    "two = 2\n",
    "print(one+two)"
   ]
  },
  {
   "cell_type": "markdown",
   "id": "efdc01cb-1866-45b2-8948-b672fcc5f907",
   "metadata": {},
   "source": [
    "**Bulleted list**\n",
    "* 1\n",
    "* 2\n",
    "* 3\n",
    "\n",
    "**Code highlighting**\n",
    "\n",
    "<code>print(one+two)</code>\n",
    "\n",
    "\n",
    "**Blocked quotes and Strikethrough**\n",
    "> A Jupyter Notebook file allows Data Scientists to combine descriptive text, code blocks, and code output in <s>a multiple file to open this</s> a single file.\n",
    ">\n",
    "> It is compatible with several file formats like CSV, JSON, PDF, Vega and more. And is open source."
   ]
  }
 ],
 "metadata": {
  "kernelspec": {
   "display_name": "Python",
   "language": "python",
   "name": "conda-env-python-py"
  },
  "language_info": {
   "codemirror_mode": {
    "name": "ipython",
    "version": 3
   },
   "file_extension": ".py",
   "mimetype": "text/x-python",
   "name": "python",
   "nbconvert_exporter": "python",
   "pygments_lexer": "ipython3",
   "version": "3.7.12"
  }
 },
 "nbformat": 4,
 "nbformat_minor": 5
}
